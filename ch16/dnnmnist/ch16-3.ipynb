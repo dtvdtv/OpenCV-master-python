{
 "cells": [
  {
   "cell_type": "code",
   "execution_count": null,
   "metadata": {},
   "outputs": [
    {
     "name": "stdout",
     "output_type": "stream",
     "text": [
      "3 (57.563192)\n",
      "7 (99.998796)\n",
      "5 (100.000000)\n",
      "5 (99.964881)\n",
      "2 (90.355343)\n",
      "2 (54.881263)\n",
      "7 (99.353433)\n",
      "7 (99.939668)\n",
      "3 (100.000000)\n",
      "0 (85.286409)\n"
     ]
    }
   ],
   "source": [
    "import numpy as np\n",
    "import cv2\n",
    "\n",
    "\n",
    "oldx, oldy = -1, -1\n",
    "\n",
    "def on_mouse(event, x, y, flags, _):\n",
    "    global oldx, oldy\n",
    "\n",
    "    if event == cv2.EVENT_LBUTTONDOWN:\n",
    "        oldx, oldy = x, y\n",
    "\n",
    "    elif event == cv2.EVENT_LBUTTONUP:\n",
    "        oldx, oldy = -1, -1\n",
    "\n",
    "    elif event == cv2.EVENT_MOUSEMOVE:\n",
    "        if flags & cv2.EVENT_FLAG_LBUTTON:\n",
    "            cv2.line(img, (oldx, oldy), (x, y), (255, 255, 255), 40, cv2.LINE_AA)\n",
    "            oldx, oldy = x, y\n",
    "            cv2.imshow('img', img)\n",
    "\n",
    "\n",
    "net = cv2.dnn.readNet('mnist_cnn.pb')\n",
    "\n",
    "if net.empty():\n",
    "    print('Network load failed!')\n",
    "    exit()\n",
    "\n",
    "img = np.zeros((400, 400), np.uint8)\n",
    "\n",
    "cv2.imshow('img', img)\n",
    "cv2.setMouseCallback('img', on_mouse)\n",
    "\n",
    "while True:\n",
    "    c = cv2.waitKey()\n",
    "\n",
    "    if c == 27:\n",
    "        break\n",
    "    elif c == ord(' '):\n",
    "        blob = cv2.dnn.blobFromImage(img, 1/255., (28, 28))\n",
    "        net.setInput(blob)\n",
    "        prob = net.forward()\n",
    "\n",
    "        _, maxVal, _, maxLoc = cv2.minMaxLoc(prob)\n",
    "        digit = maxLoc[0]\n",
    "\n",
    "        print('%d (%f)' % (digit, maxVal * 100))\n",
    "\n",
    "        img.fill(0)\n",
    "        cv2.imshow('img', img)\n",
    "\n",
    "cv2.destroyAllWindows()\n"
   ]
  },
  {
   "cell_type": "code",
   "execution_count": null,
   "metadata": {},
   "outputs": [],
   "source": []
  }
 ],
 "metadata": {
  "kernelspec": {
   "display_name": "Python 3",
   "language": "python",
   "name": "python3"
  },
  "language_info": {
   "codemirror_mode": {
    "name": "ipython",
    "version": 3
   },
   "file_extension": ".py",
   "mimetype": "text/x-python",
   "name": "python",
   "nbconvert_exporter": "python",
   "pygments_lexer": "ipython3",
   "version": "3.6.10"
  }
 },
 "nbformat": 4,
 "nbformat_minor": 4
}
