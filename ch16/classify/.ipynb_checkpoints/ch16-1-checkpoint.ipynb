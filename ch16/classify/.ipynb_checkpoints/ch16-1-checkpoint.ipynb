{
 "cells": [
  {
   "cell_type": "code",
   "execution_count": 6,
   "metadata": {},
   "outputs": [],
   "source": [
    "import numpy as np\n",
    "import cv2\n",
    "import sys\n",
    "\n",
    "\n",
    "filename = 'scooter.jpg'\n",
    "\n",
    "#if len(sys.argv) > 1:\n",
    "#    filename = sys.argv[1]\n",
    "\n",
    "img = cv2.imread(filename)\n",
    "\n",
    "if img is None:\n",
    "    print('Image load failed!')\n",
    "    exit()\n",
    "\n",
    "# Load network\n",
    "\n",
    "net = cv2.dnn.readNet('bvlc_googlenet.caffemodel', 'deploy.prototxt')\n",
    "\n",
    "if net.empty():\n",
    "    print('Network load failed!')\n",
    "    exit()\n",
    "\n",
    "# Load class names\n",
    "\n",
    "classNames = None\n",
    "with open('classification_classes_ILSVRC2012.txt', 'rt') as f:\n",
    "    classNames = f.read().rstrip('\\n').split('\\n')\n",
    "\n",
    "# Inference\n",
    "\n",
    "inputBlob = cv2.dnn.blobFromImage(img, 1, (224, 224), (104, 117, 123))\n",
    "net.setInput(inputBlob, 'data')\n",
    "prob = net.forward()\n",
    "\n",
    "# Check results & Display\n",
    "\n",
    "out = prob.flatten()\n",
    "classId = np.argmax(out)\n",
    "confidence = out[classId]\n",
    "\n",
    "str = '%s (%4.2f%%)' % (classNames[classId], confidence * 100)\n",
    "cv2.putText(img, str, (10, 30), cv2.FONT_HERSHEY_SIMPLEX, 0.8, (0, 0, 255), 1, cv2.LINE_AA)\n",
    "\n",
    "cv2.imshow('img', img)\n",
    "cv2.waitKey()\n",
    "cv2.destroyAllWindows()\n"
   ]
  },
  {
   "cell_type": "code",
   "execution_count": null,
   "metadata": {},
   "outputs": [],
   "source": []
  }
 ],
 "metadata": {
  "kernelspec": {
   "display_name": "Python 3",
   "language": "python",
   "name": "python3"
  },
  "language_info": {
   "codemirror_mode": {
    "name": "ipython",
    "version": 3
   },
   "file_extension": ".py",
   "mimetype": "text/x-python",
   "name": "python",
   "nbconvert_exporter": "python",
   "pygments_lexer": "ipython3",
   "version": "3.6.10"
  }
 },
 "nbformat": 4,
 "nbformat_minor": 4
}
